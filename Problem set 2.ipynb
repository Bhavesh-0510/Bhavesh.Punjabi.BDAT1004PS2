{
 "cells": [
  {
   "cell_type": "markdown",
   "id": "69b16781",
   "metadata": {},
   "source": [
    "# Q1.Consider the following python module.                                                       What value is displayed when the last expression (a) is evaluated? Explain your answer by indicating what happens in every executed statement."
   ]
  },
  {
   "cell_type": "code",
   "execution_count": 1,
   "id": "98cbff42",
   "metadata": {},
   "outputs": [],
   "source": [
    "a = 0\n",
    "\n",
    "def b():\n",
    "    global a\n",
    "    a = c(a)\n",
    "def c(a):\n",
    "    return a + 2\n"
   ]
  },
  {
   "cell_type": "code",
   "execution_count": 2,
   "id": "e05ade95",
   "metadata": {},
   "outputs": [],
   "source": [
    "b()   # First time a's value will be 0 so in c(a), it will return 0+2=2 then global a's value will be 2"
   ]
  },
  {
   "cell_type": "code",
   "execution_count": 3,
   "id": "637b54ae",
   "metadata": {},
   "outputs": [],
   "source": [
    "b()   #Second time a's value will be 2 so in c(a), it will return 2+2=4 then global a's value will be 4"
   ]
  },
  {
   "cell_type": "code",
   "execution_count": 4,
   "id": "fdad3cf4",
   "metadata": {},
   "outputs": [],
   "source": [
    "b()   #Third time a's value will be 4 so in c(a), it will return 4+2=6 then global a's value will be 6"
   ]
  },
  {
   "cell_type": "code",
   "execution_count": 5,
   "id": "efdbcb7f",
   "metadata": {},
   "outputs": [
    {
     "data": {
      "text/plain": [
       "6"
      ]
     },
     "execution_count": 5,
     "metadata": {},
     "output_type": "execute_result"
    }
   ],
   "source": [
    "a    # global a and a = 6 "
   ]
  },
  {
   "cell_type": "markdown",
   "id": "b39e3ba0",
   "metadata": {},
   "source": [
    "Ans. In a = c(a) global a is changed whenever c(a) which is = b() is being executed and value is being assigned to a.\n",
    "Everytime b() is getting executed, global a is getting changed,so a = 6."
   ]
  },
  {
   "cell_type": "markdown",
   "id": "7a3e2c59",
   "metadata": {},
   "source": [
    "# Q2. Function fileLength(), given to you, takes the name of a file as input and returns the length of the file:"
   ]
  },
  {
   "cell_type": "code",
   "execution_count": 6,
   "id": "3e60ef12",
   "metadata": {},
   "outputs": [],
   "source": [
    "def file_length(file_name):\n",
    "    try:\n",
    "        file = open(file_name)\n",
    "        contents = file.read()\n",
    "        file.close()\n",
    "        print(len(contents))\n",
    "    except FileNotFoundError:\n",
    "        print('file ' + file_name + ' is not found')\n",
    "        \n",
    "    finally:\n",
    "        print(\"The 'try except' is finished\")"
   ]
  },
  {
   "cell_type": "code",
   "execution_count": 7,
   "id": "0fbcaf4a",
   "metadata": {},
   "outputs": [
    {
     "name": "stdout",
     "output_type": "stream",
     "text": [
      "11\n",
      "The 'try except' is finished\n"
     ]
    }
   ],
   "source": [
    "file_length('tp.py')"
   ]
  },
  {
   "cell_type": "code",
   "execution_count": 8,
   "id": "416c0080",
   "metadata": {},
   "outputs": [
    {
     "name": "stdout",
     "output_type": "stream",
     "text": [
      "file id.py is not found\n",
      "The 'try except' is finished\n"
     ]
    }
   ],
   "source": [
    "file_length('id.py')"
   ]
  },
  {
   "cell_type": "markdown",
   "id": "d8dc391a",
   "metadata": {},
   "source": [
    "# Q3.  Write  a   class  named  Marsupial  that  can  be  used  as  shown.       Now write a class named Kangaroo as a subclass of Marsupial that inherits all the attributes of Marsupial and also: a. extends the Marsupial init constructor to take, as input, the coordinates x and y of the Kangaroo object, b. supports method jump that takes number values dx and dy as input and moves the kangaroo by dx units along the x-axis and by dy units along the yaxis, and c. overloads the str operator so it behaves as shown below."
   ]
  },
  {
   "cell_type": "code",
   "execution_count": 18,
   "id": "79d6e712",
   "metadata": {},
   "outputs": [],
   "source": [
    "class Marsupial:\n",
    "    def __init__(self):\n",
    "        self.myList = []\n",
    "    def put_in_pouch(self,item):       \n",
    "        self.myList.append(item)\n",
    "    def pouch_contents(self):          \n",
    "        return self.myList\n"
   ]
  },
  {
   "cell_type": "code",
   "execution_count": 19,
   "id": "97a0d88b",
   "metadata": {},
   "outputs": [
    {
     "data": {
      "text/plain": [
       "['doll', 'firetruck', 'kitten']"
      ]
     },
     "execution_count": 19,
     "metadata": {},
     "output_type": "execute_result"
    }
   ],
   "source": [
    "m = Marsupial()\n",
    "m.put_in_pouch('doll')\n",
    "m.put_in_pouch('firetruck')\n",
    "m.put_in_pouch('kitten')\n",
    "m.pouch_contents()"
   ]
  },
  {
   "cell_type": "code",
   "execution_count": 20,
   "id": "ce99bc60",
   "metadata": {},
   "outputs": [],
   "source": [
    "class Kangaroo(Marsupial):\n",
    "    def __init__(self,x,y):        \n",
    "        Marsupial.__init__(self)\n",
    "        self.x = x\n",
    "        self.y = y\n",
    "    def jump(self,dx,dy):          \n",
    "        self.x += dx\n",
    "        self.y += dy\n",
    "    def __str__(self):            \n",
    "        return 'I am a Kangaroo located at co-ordinates ({},{})'.format(self.x,self.y)"
   ]
  },
  {
   "cell_type": "code",
   "execution_count": 21,
   "id": "feba701b",
   "metadata": {},
   "outputs": [
    {
     "name": "stdout",
     "output_type": "stream",
     "text": [
      "I am a Kangaroo located at co-ordinates (0,0)\n",
      "['doll', 'firetruck', 'kitten']\n",
      "I am a Kangaroo located at co-ordinates (3,0)\n"
     ]
    }
   ],
   "source": [
    "k = Kangaroo(0,0)\n",
    "print(k)\n",
    "\n",
    "k.put_in_pouch('doll')\n",
    "k.put_in_pouch('firetruck')\n",
    "k.put_in_pouch('kitten')\n",
    "km=k.pouch_contents()\n",
    "print(km)\n",
    "\n",
    "k.jump(1,0)\n",
    "k.jump(1,0)\n",
    "k.jump(1,0)\n",
    "\n",
    "print(k)"
   ]
  },
  {
   "cell_type": "markdown",
   "id": "eb3a3c74",
   "metadata": {},
   "source": [
    "# Q4. Write function collatz() that takes a positive integer x as input and prints the Collatz sequence starting at x. A Collatz sequence is obtained by repeatedly applying this rule to the previous number x in the sequence:                                  Your function should stop when sequence gets to number 1. your implementation must be recursive, without any loops. "
   ]
  },
  {
   "cell_type": "code",
   "execution_count": 16,
   "id": "cda5f901",
   "metadata": {},
   "outputs": [],
   "source": [
    "def collatz(x):\n",
    "    if x == 1:                     # At x == 1 it will stop and return the list- making base.\n",
    "        return [x]\n",
    "    elif x%2==0:                         # In this condition it will check if the number is even or odd.\n",
    "        return [x] + collatz(int(x/2))    # condition if the number is even. \n",
    "    else:                                \n",
    "        return [x] + collatz(int(x*3+1))    # condition if the number is odd.\n",
    "\n"
   ]
  },
  {
   "cell_type": "code",
   "execution_count": 17,
   "id": "62041a81",
   "metadata": {},
   "outputs": [
    {
     "name": "stdout",
     "output_type": "stream",
     "text": [
      "collatz(1)\n",
      "1\n",
      "\n",
      "collatz(10)\n",
      "10\n",
      "5\n",
      "16\n",
      "8\n",
      "4\n",
      "2\n",
      "1\n"
     ]
    }
   ],
   "source": [
    "x=collatz(1)\n",
    "y=collatz(10)\n",
    "print(\"collatz(1)\")\n",
    "print(*x,sep = \"\\n\")\n",
    "print(\"\\ncollatz(10)\")\n",
    "print(*y, sep = \"\\n\")"
   ]
  },
  {
   "cell_type": "markdown",
   "id": "32bd49b0",
   "metadata": {},
   "source": [
    "# Q5. Write a recursive method binary() that takes a non-negative integer n and prints the binary representation of integer n."
   ]
  },
  {
   "cell_type": "code",
   "execution_count": 19,
   "id": "5bee092e",
   "metadata": {},
   "outputs": [],
   "source": [
    "def binary(decimal_number):\n",
    "   if decimal_number < 2:          \n",
    "     return (decimal_number)\n",
    "   else:                               # If the decimal_number is more than 2 else condition will execute. \n",
    "    return (decimal_number % 2 +10 *\n",
    "                binary(decimal_number % 2));"
   ]
  },
  {
   "cell_type": "code",
   "execution_count": 20,
   "id": "c06ce3ac",
   "metadata": {},
   "outputs": [
    {
     "data": {
      "text/plain": [
       "0"
      ]
     },
     "execution_count": 20,
     "metadata": {},
     "output_type": "execute_result"
    }
   ],
   "source": [
    "binary(0)"
   ]
  },
  {
   "cell_type": "code",
   "execution_count": 21,
   "id": "4584c93b",
   "metadata": {},
   "outputs": [
    {
     "data": {
      "text/plain": [
       "1"
      ]
     },
     "execution_count": 21,
     "metadata": {},
     "output_type": "execute_result"
    }
   ],
   "source": [
    "binary(1)"
   ]
  },
  {
   "cell_type": "code",
   "execution_count": 22,
   "id": "fa67a8ed",
   "metadata": {},
   "outputs": [
    {
     "data": {
      "text/plain": [
       "11"
      ]
     },
     "execution_count": 22,
     "metadata": {},
     "output_type": "execute_result"
    }
   ],
   "source": [
    "binary(3)"
   ]
  },
  {
   "cell_type": "markdown",
   "id": "5419463a",
   "metadata": {},
   "source": [
    "# Q6. Implement a class named HeadingParser that can be used to parse an HTML document, and retrive and print all the headings in the document......."
   ]
  },
  {
   "cell_type": "code",
   "execution_count": 23,
   "id": "628e50b9",
   "metadata": {},
   "outputs": [],
   "source": [
    "from html.parser import HTMLParser\n",
    "\n",
    "class HeadingParser(HTMLParser): \n",
    "    Headers = [\"h1\", \"h2\"]                        \n",
    "    current = -1\n",
    "\n",
    "    def handle_starttag(self, tag, attrs):       \n",
    "        if tag in HeadingParser.Headers:         \n",
    "            HeadingParser.current = HeadingParser.Headers.index(tag)\n",
    "    \n",
    "    def handle_endtag(self, tag):                \n",
    "        if tag == HeadingParser.Headers[HeadingParser.current]:           \n",
    "            HeadingParser.current = -1\n",
    "            \n",
    "    def handle_data(self, data):\n",
    "        if HeadingParser.current >= 0:\n",
    "            print(\" \" * HeadingParser.current + data)\n",
    "            "
   ]
  },
  {
   "cell_type": "code",
   "execution_count": 24,
   "id": "ea84ab99",
   "metadata": {},
   "outputs": [
    {
     "name": "stdout",
     "output_type": "stream",
     "text": [
      "W3C Mission\n",
      " Principles\n"
     ]
    }
   ],
   "source": [
    "infile = open(\"w3c.html\",\"r\")\n",
    "content = infile.read()\n",
    "infile.close()\n",
    "hp = HeadingParser()\n",
    "hp.feed(content)"
   ]
  },
  {
   "cell_type": "markdown",
   "id": "f6c6f40d",
   "metadata": {},
   "source": [
    "# Q7. Implement recursive function webdir() that takes as input: URL (as a string) and non-negative integers depth and indent......."
   ]
  },
  {
   "cell_type": "code",
   "execution_count": 13,
   "id": "82ff0f5b",
   "metadata": {},
   "outputs": [],
   "source": [
    "from urllib.request import urlopen\n",
    "from urllib.parse import urljoin\n",
    "from html.parser import HTMLParser\n",
    "\n",
    "class Collector(HTMLParser):\n",
    "\n",
    "    def __init__(self, url):\n",
    "        HTMLParser.__init__(self)\n",
    "        self.url = url\n",
    "        self.links = []\n",
    "\n",
    "    def handle_starttag(self, tag, attrs):\n",
    "        if tag == 'a':                               # search for href attribute and print its value\n",
    "            for attr in attrs:\n",
    "                if attr[0] == 'href':                     # construct absolute URL\n",
    "                    absolute = urljoin(self.url, attr[1])\n",
    "                    if absolute[:4] == 'http':                # collect HTTP URLs\n",
    "                        self.links.append(absolute)\n",
    "                        \n",
    "    def getLinks(self):\n",
    "        return self.links\n",
    "                \n",
    "allLinks = []\n",
    "    \n",
    "def webdir(url,depth,indent):\n",
    "        global allLinks   \n",
    "        print(indent*\" \" + url)\n",
    "        if depth == 0:\n",
    "            return \n",
    "        for i in allLinks: \n",
    "            webdir(i, depth-2, indent+2)\n",
    "            "
   ]
  },
  {
   "cell_type": "code",
   "execution_count": 14,
   "id": "b2ea20f5",
   "metadata": {},
   "outputs": [],
   "source": [
    "url = ' http://reed.cs.depaul.edu/lperkovic/test1.html'\n",
    "resource = urlopen(url)\n",
    "content = resource.read().decode()\n",
    "collector = Collector(url)\n",
    "collector.feed(content)\n",
    "allLinks = collector.getLinks()  "
   ]
  },
  {
   "cell_type": "code",
   "execution_count": 15,
   "id": "c939565f",
   "metadata": {},
   "outputs": [
    {
     "name": "stdout",
     "output_type": "stream",
     "text": [
      " http://reed.cs.depaul.edu/lperkovic/test1.html\n",
      "  http://reed.cs.depaul.edu/lperkovic/test2.html\n"
     ]
    }
   ],
   "source": [
    "webdir(' http://reed.cs.depaul.edu/lperkovic/test1.html',2,0)"
   ]
  },
  {
   "cell_type": "markdown",
   "id": "871977bf",
   "metadata": {},
   "source": [
    "# Q8. Write SQL queries on the below database table that return: "
   ]
  },
  {
   "cell_type": "code",
   "execution_count": 62,
   "id": "481fb139",
   "metadata": {},
   "outputs": [
    {
     "data": {
      "text/plain": [
       "<sqlite3.Cursor at 0x24bf1898260>"
      ]
     },
     "execution_count": 62,
     "metadata": {},
     "output_type": "execute_result"
    }
   ],
   "source": [
    "import sqlite3\n",
    "con = sqlite3.connect('ipydb2.db') # connecting databse.\n",
    "cur = con.cursor()\n",
    "cur.execute(\"CREATE TABLE weather (City text, Country text, Season text,Temperature float,Rainfall float)\") #create table query."
   ]
  },
  {
   "cell_type": "code",
   "execution_count": 63,
   "id": "2ac82301",
   "metadata": {},
   "outputs": [
    {
     "data": {
      "text/plain": [
       "<sqlite3.Cursor at 0x24bf1898260>"
      ]
     },
     "execution_count": 63,
     "metadata": {},
     "output_type": "execute_result"
    }
   ],
   "source": [
    "cur.execute(\"INSERT INTO weather VALUES ('Mumbai', 'India', 'Winter',24.8,5.9)\")\n",
    "cur.execute(\"INSERT INTO weather VALUES ('Mumbai', 'India', 'Spring',28.4,16.2)\")\n",
    "cur.execute(\"INSERT INTO weather VALUES ('Mumbai', 'India', 'Summer',27.9,1549.4 )\")\n",
    "cur.execute(\"INSERT INTO weather VALUES ('Mumbai', 'India', 'Fall',27.6,346.0)\")\n",
    "cur.execute(\"INSERT INTO weather VALUES ('London', 'United Kingdom', 'Winter',4.2,207.7 )\")\n",
    "cur.execute(\"INSERT INTO weather VALUES ('London', 'United Kingdom', 'Spring',8.3,169.6)\")     #Inserting values in table weather.\n",
    "cur.execute(\"INSERT INTO weather VALUES ('London', 'United Kingdom', 'Summer',15.7,157.0)\")\n",
    "cur.execute(\"INSERT INTO weather VALUES ('London', 'United Kingdom', 'Fall',10.4,218.5)\")\n",
    "cur.execute(\"INSERT INTO weather VALUES ('Cairo', 'Egypt', 'Winter',13.6,16.5)\")\n",
    "cur.execute(\"INSERT INTO weather VALUES ('Cairo', 'Egypt', 'Spring',20.7,6.5)\")\n",
    "cur.execute(\"INSERT INTO weather VALUES ('Cairo', 'Egypt', 'Summer',27.7,0.1)\")\n",
    "cur.execute(\"INSERT INTO weather VALUES ('Cairo', 'Egypt', 'Fall',22.2,4.5)\")"
   ]
  },
  {
   "cell_type": "code",
   "execution_count": 64,
   "id": "c3a8bd8e",
   "metadata": {},
   "outputs": [
    {
     "data": {
      "text/plain": [
       "[('Mumbai', 'India', 'Winter', 24.8, 5.9),\n",
       " ('Mumbai', 'India', 'Spring', 28.4, 16.2),\n",
       " ('Mumbai', 'India', 'Summer', 27.9, 1549.4),\n",
       " ('Mumbai', 'India', 'Fall', 27.6, 346.0),\n",
       " ('London', 'United Kingdom', 'Winter', 4.2, 207.7),\n",
       " ('London', 'United Kingdom', 'Spring', 8.3, 169.6),\n",
       " ('London', 'United Kingdom', 'Summer', 15.7, 157.0),\n",
       " ('London', 'United Kingdom', 'Fall', 10.4, 218.5),\n",
       " ('Cairo', 'Egypt', 'Winter', 13.6, 16.5),\n",
       " ('Cairo', 'Egypt', 'Spring', 20.7, 6.5),\n",
       " ('Cairo', 'Egypt', 'Summer', 27.7, 0.1),\n",
       " ('Cairo', 'Egypt', 'Fall', 22.2, 4.5)]"
      ]
     },
     "execution_count": 64,
     "metadata": {},
     "output_type": "execute_result"
    }
   ],
   "source": [
    "cur.execute('SELECT * FROM weather')    # prints all the values inside table. \n",
    "cur.fetchall()"
   ]
  },
  {
   "cell_type": "markdown",
   "id": "0ff389f9",
   "metadata": {},
   "source": [
    "# a) All the temperature data."
   ]
  },
  {
   "cell_type": "code",
   "execution_count": 65,
   "id": "36e3bde6",
   "metadata": {},
   "outputs": [
    {
     "name": "stdout",
     "output_type": "stream",
     "text": [
      "(24.8,)\n",
      "(28.4,)\n",
      "(27.9,)\n",
      "(27.6,)\n",
      "(4.2,)\n",
      "(8.3,)\n",
      "(15.7,)\n",
      "(10.4,)\n",
      "(13.6,)\n",
      "(20.7,)\n",
      "(27.7,)\n",
      "(22.2,)\n"
     ]
    }
   ],
   "source": [
    "cur.execute('SELECT temperature FROM weather')\n",
    "a=cur.fetchall()\n",
    "for item in a:\n",
    "    print(item)"
   ]
  },
  {
   "cell_type": "markdown",
   "id": "b81a0c82",
   "metadata": {},
   "source": [
    "# b) All the cities, but without repetition."
   ]
  },
  {
   "cell_type": "code",
   "execution_count": 66,
   "id": "4d36c3cf",
   "metadata": {},
   "outputs": [
    {
     "name": "stdout",
     "output_type": "stream",
     "text": [
      "('Mumbai',)\n",
      "('London',)\n",
      "('Cairo',)\n"
     ]
    }
   ],
   "source": [
    "cur.execute('SELECT DISTINCT City FROM weather')\n",
    "i=cur.fetchall()\n",
    "for item in i:\n",
    "    print(item)"
   ]
  },
  {
   "cell_type": "markdown",
   "id": "0416c8d8",
   "metadata": {},
   "source": [
    "# c) All the records for India."
   ]
  },
  {
   "cell_type": "code",
   "execution_count": 68,
   "id": "3de2a8ed",
   "metadata": {},
   "outputs": [
    {
     "name": "stdout",
     "output_type": "stream",
     "text": [
      "('Mumbai', 'India', 'Winter', 24.8, 5.9)\n",
      "('Mumbai', 'India', 'Spring', 28.4, 16.2)\n",
      "('Mumbai', 'India', 'Summer', 27.9, 1549.4)\n",
      "('Mumbai', 'India', 'Fall', 27.6, 346.0)\n"
     ]
    }
   ],
   "source": [
    "cur.execute(\"SELECT * FROM weather WHERE Country='India'\")\n",
    "j=cur.fetchall()\n",
    "for item in j:\n",
    "    print(item)"
   ]
  },
  {
   "cell_type": "markdown",
   "id": "b32b7179",
   "metadata": {},
   "source": [
    "# d) All the Fall records."
   ]
  },
  {
   "cell_type": "code",
   "execution_count": 69,
   "id": "c2ed5e12",
   "metadata": {},
   "outputs": [
    {
     "name": "stdout",
     "output_type": "stream",
     "text": [
      "('Mumbai', 'India', 'Fall', 27.6, 346.0)\n",
      "('London', 'United Kingdom', 'Fall', 10.4, 218.5)\n",
      "('Cairo', 'Egypt', 'Fall', 22.2, 4.5)\n"
     ]
    }
   ],
   "source": [
    "cur.execute(\"SELECT * FROM weather WHERE Season='Fall'\")\n",
    "x=cur.fetchall()\n",
    "for item in x:\n",
    "    print(item)\n"
   ]
  },
  {
   "cell_type": "markdown",
   "id": "6727ef48",
   "metadata": {},
   "source": [
    "# e) The city, country, and season for which the average rainfall is between 200 and 400 millimeters."
   ]
  },
  {
   "cell_type": "code",
   "execution_count": 70,
   "id": "2abb1ac5",
   "metadata": {},
   "outputs": [
    {
     "name": "stdout",
     "output_type": "stream",
     "text": [
      "('Mumbai', 'India', 'Fall')\n",
      "('London', 'United Kingdom', 'Winter')\n",
      "('London', 'United Kingdom', 'Fall')\n"
     ]
    }
   ],
   "source": [
    "cur.execute(\"SELECT City,country,Season FROM weather WHERE Rainfall BETWEEN 200 AND 400\")\n",
    "y=cur.fetchall()\n",
    "for item in y:\n",
    "    print(item)"
   ]
  },
  {
   "cell_type": "markdown",
   "id": "cfbf6e67",
   "metadata": {},
   "source": [
    "# f) The city and country for which the average Fall temperature is above 20 degrees, in increasing temperature order."
   ]
  },
  {
   "cell_type": "code",
   "execution_count": 71,
   "id": "d2caa3c1",
   "metadata": {},
   "outputs": [
    {
     "name": "stdout",
     "output_type": "stream",
     "text": [
      "('Cairo', 'Egypt')\n",
      "('Mumbai', 'India')\n"
     ]
    }
   ],
   "source": [
    "cur.execute(\"SELECT City,country FROM weather WHERE Season='Fall' AND temperature > 20 ORDER BY temperature ASC\")\n",
    "z=cur.fetchall()\n",
    "for item in z:\n",
    "    print(item)"
   ]
  },
  {
   "cell_type": "markdown",
   "id": "88b37265",
   "metadata": {},
   "source": [
    "# g) The total annual rainfall for Cairo"
   ]
  },
  {
   "cell_type": "code",
   "execution_count": 72,
   "id": "86c451cc",
   "metadata": {},
   "outputs": [
    {
     "name": "stdout",
     "output_type": "stream",
     "text": [
      "(27.6,)\n"
     ]
    }
   ],
   "source": [
    "cur.execute(\"SELECT SUM(Rainfall) FROM weather WHERE City='Cairo'\")\n",
    "n=cur.fetchall()\n",
    "for item in n:\n",
    "    print(item)"
   ]
  },
  {
   "cell_type": "markdown",
   "id": "9452ba46",
   "metadata": {},
   "source": [
    "# h) The total rainfall for each season."
   ]
  },
  {
   "cell_type": "code",
   "execution_count": 74,
   "id": "9c91c61b",
   "metadata": {
    "scrolled": true
   },
   "outputs": [
    {
     "name": "stdout",
     "output_type": "stream",
     "text": [
      "(569.0,)\n",
      "(192.29999999999998,)\n",
      "(1706.5,)\n",
      "(230.1,)\n"
     ]
    }
   ],
   "source": [
    "cur.execute(\"SELECT SUM(Rainfall) FROM weather GROUP BY Season\")\n",
    "r=cur.fetchall()\n",
    "for item in r:\n",
    "    print(item)"
   ]
  },
  {
   "cell_type": "markdown",
   "id": "bb4b830b",
   "metadata": {},
   "source": [
    "# Q9. Suppose list words is defined as follows: words = ['The', 'quick', 'brown', 'fox', 'jumps', 'over', 'the', 'lazy', 'dog'].                                                                 Write list comprehension expressions that use list words and generate the following lists:                                                                                                                a) upper                                                                                                                            b) lower                                                                                                                            c) The list of length of words in list words.                                                                  d) The list containing a list for every word of list words, where each list contains the word in uppercase and lowercase and the length of the word.          e) The list of words in list words containing 4 or more characters.\n"
   ]
  },
  {
   "cell_type": "code",
   "execution_count": 37,
   "id": "8599d4e9",
   "metadata": {},
   "outputs": [],
   "source": [
    "words = ['The', 'quick', 'brown', 'fox', 'jumps', 'over','the', 'lazy', 'dog']"
   ]
  },
  {
   "cell_type": "code",
   "execution_count": 59,
   "id": "790abbbb",
   "metadata": {},
   "outputs": [
    {
     "name": "stdout",
     "output_type": "stream",
     "text": [
      "a =  ['THE', 'QUICK', 'BROWN', 'FOX', 'JUMPS', 'OVER', 'THE', 'LAZY', 'DOG']\n",
      "b =  ['the', 'quick', 'brown', 'fox', 'jumps', 'over', 'the', 'lazy', 'dog']\n",
      "c =  [3, 5, 5, 3, 5, 4, 3, 4, 3]\n",
      "d =  [['THE', 'the', 3], ['QUICK', 'quick', 5], ['BROWN', 'brown', 5], ['FOX', 'fox', 3], ['JUMPS', 'jumps', 5], ['OVER', 'over', 4], ['THE', 'the', 3], ['LAZY', 'lazy', 4], ['DOG', 'dog', 3]]\n",
      "e =  ['quick', 'brown', 'jumps', 'over', 'lazy']\n"
     ]
    }
   ],
   "source": [
    "a = [elements.upper() for elements in words] \n",
    "print ('a = ', a)\n",
    "\n",
    "b = [elements.lower() for elements in words]\n",
    "print('b = ',b)\n",
    " \n",
    "c = [len(elements) for elements in words]\n",
    "print('c = ',c)\n",
    "\n",
    "d = [[elements.upper(),elements.lower(),len(elements)] for elements in words]\n",
    "print('d = ',d)\n",
    "\n",
    "e = [elements for elements in words if len(elements)>=4]\n",
    "print('e = ',e)"
   ]
  }
 ],
 "metadata": {
  "kernelspec": {
   "display_name": "Python 3 (ipykernel)",
   "language": "python",
   "name": "python3"
  },
  "language_info": {
   "codemirror_mode": {
    "name": "ipython",
    "version": 3
   },
   "file_extension": ".py",
   "mimetype": "text/x-python",
   "name": "python",
   "nbconvert_exporter": "python",
   "pygments_lexer": "ipython3",
   "version": "3.9.12"
  }
 },
 "nbformat": 4,
 "nbformat_minor": 5
}
